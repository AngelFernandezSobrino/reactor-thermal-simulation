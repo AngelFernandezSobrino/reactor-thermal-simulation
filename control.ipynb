{
 "cells": [
  {
   "cell_type": "code",
   "execution_count": null,
   "metadata": {},
   "outputs": [],
   "source": [
    "# secord.py - demonstrate some standard MATLAB commands\n",
    "# RMM, 25 May 09\n",
    "\n",
    "import os\n",
    "import matplotlib.pyplot as plt   # MATLAB plotting functions\n",
    "from control.matlab import *  # MATLAB-like functions\n",
    "\n",
    "# Parameters defining the system\n",
    "m = 250.0           # system mass\n",
    "k = 40.0            # spring constant\n",
    "b = 60.0            # damping constant\n",
    "\n",
    "# System matrices\n",
    "A = [[0, 1.], [-k/m, -b/m]]\n",
    "B = [[0], [1/m]]\n",
    "C = [[1., 0]]\n",
    "sys = ss(A, B, C, 0)\n",
    "\n",
    "# Step response for the system\n",
    "plt.figure(1)\n",
    "yout, T = step(sys)\n",
    "plt.plot(T.T, yout.T)\n",
    "plt.show(block=False)\n",
    "\n",
    "# Bode plot for the system\n",
    "plt.figure(2)\n",
    "mag, phase, om = bode(sys, logspace(-2, 2), plot=True)\n",
    "plt.show(block=False)\n",
    "\n",
    "# Nyquist plot for the system\n",
    "plt.figure(3)\n",
    "nyquist(sys)\n",
    "plt.show(block=False)\n",
    "\n",
    "# Root lcous plot for the system\n",
    "rlocus(sys)\n",
    "\n",
    "if 'PYCONTROL_TEST_EXAMPLES' not in os.environ:\n",
    "    plt.show()"
   ]
  }
 ],
 "metadata": {
  "kernelspec": {
   "display_name": ".venv",
   "language": "python",
   "name": "python3"
  },
  "language_info": {
   "name": "python",
   "version": "3.11.1"
  }
 },
 "nbformat": 4,
 "nbformat_minor": 2
}
